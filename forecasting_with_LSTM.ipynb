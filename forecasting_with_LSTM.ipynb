{
  "nbformat": 4,
  "nbformat_minor": 0,
  "metadata": {
    "colab": {
      "provenance": [],
      "authorship_tag": "ABX9TyPz3qrxknOTdBrYONKPW1QZ"
    },
    "kernelspec": {
      "name": "python3",
      "display_name": "Python 3"
    },
    "language_info": {
      "name": "python"
    }
  },
  "cells": [
    {
      "cell_type": "markdown",
      "source": [
        "##1-İMPORTİNG LİBRARİES"
      ],
      "metadata": {
        "id": "49sUUq9Xng8r"
      }
    },
    {
      "cell_type": "code",
      "source": [
        "import numpy as np\n",
        "import matplotlib.pyplot as plt\n",
        "import tensorflow as tf\n",
        "\n",
        "keras = tf.keras"
      ],
      "metadata": {
        "id": "Uf_QaHYRnwGH"
      },
      "execution_count": null,
      "outputs": []
    },
    {
      "cell_type": "markdown",
      "source": [
        "##2-Build Graphic Function"
      ],
      "metadata": {
        "id": "w35Cc3DSnwG6"
      }
    },
    {
      "cell_type": "code",
      "source": [
        "def plot_series(time, series, format=\"-\", start=0, end=None, label=None):\n",
        "    plt.plot(time[start:end], series[start:end], format, label=label)\n",
        "    plt.xlabel(\"Time\")\n",
        "    plt.ylabel(\"Value\")\n",
        "    if label:\n",
        "        plt.legend(fontsize=14)\n",
        "    plt.grid(True)"
      ],
      "metadata": {
        "id": "pIu2O7QRnwHx"
      },
      "execution_count": null,
      "outputs": []
    },
    {
      "cell_type": "markdown",
      "source": [
        "##3-Build Trend Function"
      ],
      "metadata": {
        "id": "Wp5dUS4hnwLd"
      }
    },
    {
      "cell_type": "code",
      "source": [
        "def trend(time,slope=0):\n",
        "  return time*slope"
      ],
      "metadata": {
        "id": "fzB8X0chnwMK"
      },
      "execution_count": null,
      "outputs": []
    },
    {
      "cell_type": "markdown",
      "source": [
        "##4-Build Seasonal Patterns\n",
        "\n",
        "> Ne kadarı hangi grafik ne kadar diğer grafik olduğunu belli ediyoruz\n",
        "\n"
      ],
      "metadata": {
        "id": "l1N_wcd-nwNW"
      }
    },
    {
      "cell_type": "code",
      "source": [
        "def seasonal_pattern(season_time):\n",
        "  return np.where(season_time<0.4,\n",
        "                  np.cos(season_time*2*np.pi),\n",
        "                  1/np.exp(3*season_time))"
      ],
      "metadata": {
        "id": "F2crwiC7nwQd"
      },
      "execution_count": null,
      "outputs": []
    },
    {
      "cell_type": "markdown",
      "source": [
        "##5-Build Seasonality Function"
      ],
      "metadata": {
        "id": "WVFyDplCnwRO"
      }
    },
    {
      "cell_type": "code",
      "source": [
        "def seasonality(time,period,amplitude=1,phase =0):\n",
        "  season_time =((time + phase) % period) / period\n",
        "  return amplitude * seasonal_pattern(season_time)"
      ],
      "metadata": {
        "id": "Yz5h4sM5nwSD"
      },
      "execution_count": null,
      "outputs": []
    },
    {
      "cell_type": "markdown",
      "source": [
        "##6 - Build White Noise Func"
      ],
      "metadata": {
        "id": "44IgUiCjnwWG"
      }
    },
    {
      "cell_type": "code",
      "source": [
        "def white_noise(time,noise_level=1,seed=None):\n",
        "  rnd = np.random.RandomState(seed)\n",
        "  return rnd.randn(len(time))* noise_level"
      ],
      "metadata": {
        "id": "VrCdmMBvnwW7"
      },
      "execution_count": null,
      "outputs": []
    },
    {
      "cell_type": "markdown",
      "source": [
        "##7-Build Sequential window dataset func"
      ],
      "metadata": {
        "id": "Pp9EU65NqFcs"
      }
    },
    {
      "cell_type": "code",
      "source": [
        "def sequential_window_dataset(series,window_size):\n",
        "  series = tf.expand_dims(series,axis = 1)\n",
        "  ds = tf.data.Dataset.from_tensor_slices(series)\n",
        "  ds = ds.window(window_size + 1,shift = window_size,drop_remainder = True)\n",
        "  ds = ds.flat_map(lambda w : w.batch(window_size + 1))\n",
        "  ds = ds.map(lambda w : (w[:-1],w[1:]))\n",
        "  return ds.batch(1).prefetch(1)"
      ],
      "metadata": {
        "id": "pirsA9hSqFfT"
      },
      "execution_count": null,
      "outputs": []
    },
    {
      "cell_type": "markdown",
      "source": [
        "##8-İmplemeting Funcs\n",
        "\n"
      ],
      "metadata": {
        "id": "CWjnqfhdqFhz"
      }
    },
    {
      "cell_type": "code",
      "source": [
        "time = np.arange(4 * 365 + 1)\n",
        "\n",
        "slope = 0.05\n",
        "baseline = 10\n",
        "amplitude = 40\n",
        "series = baseline + trend(time,slope) + seasonality(time , period = 365,amplitude = amplitude)\n",
        "\n",
        "\n",
        "noise_level = 5\n",
        "noise = white_noise(time,noise_level,seed=42)\n",
        "\n",
        "\n",
        "series += noise\n",
        "\n",
        "plt.figure(figsize = (10,6))\n",
        "plot_series(time,series)\n",
        "plt.show()"
      ],
      "metadata": {
        "colab": {
          "base_uri": "https://localhost:8080/",
          "height": 388
        },
        "id": "FtuQVm3NqFkP",
        "outputId": "4eeec252-1278-4df9-8750-4783818e2948"
      },
      "execution_count": null,
      "outputs": [
        {
          "output_type": "display_data",
          "data": {
            "text/plain": [
              "<Figure size 720x432 with 1 Axes>"
            ],
            "image/png": "[encoded data removed]"
          },
          "metadata": {
            "needs_background": "light"
          }
        }
      ]
    },
    {
      "cell_type": "markdown",
      "source": [
        "##9 Determining the Split Tİme (test - Valid interval)"
      ],
      "metadata": {
        "id": "EHwyJ-YdqFm3"
      }
    },
    {
      "cell_type": "code",
      "source": [
        "split_time = 1000\n",
        "time_train= time[:split_time]\n",
        "x_train = series[:split_time]\n",
        "time_valid = time[split_time:]\n",
        "x_valid = series[split_time:]"
      ],
      "metadata": {
        "id": "L1MtAUfhqFpB"
      },
      "execution_count": null,
      "outputs": []
    },
    {
      "cell_type": "markdown",
      "source": [
        "##10- Restarting Callback Func"
      ],
      "metadata": {
        "id": "JM3x-YRLqFrf"
      }
    },
    {
      "cell_type": "code",
      "source": [
        "class ResetStatesCallback(keras.callbacks.Callback):\n",
        "    def on_epoch_begin(self, epoch, logs):\n",
        "        self.model.reset_states()"
      ],
      "metadata": {
        "id": "JZ-ouNiTnwX3"
      },
      "execution_count": null,
      "outputs": []
    },
    {
      "cell_type": "markdown",
      "source": [
        "##11- LTSM RNN ForeCasting"
      ],
      "metadata": {
        "id": "YpRbulEnnwcm"
      }
    },
    {
      "cell_type": "code",
      "source": [
        "keras.backend.clear_session()\n",
        "tf.random.set_seed(42)\n",
        "np.random.seed(42)\n",
        "\n",
        "\n",
        "window_size = 30\n",
        "train_set = sequential_window_dataset(x_train,window_size)\n",
        "\n",
        "\n",
        "model = keras.models.Sequential([\n",
        "    keras.layers.LSTM(100,return_sequences = True,stateful = True,\n",
        "                      batch_input_shape = [1,None,1]),\n",
        "    \n",
        "    keras.layers.LSTM(100,return_sequences = True,stateful = True),\n",
        "\n",
        "    keras.layers.Dense(1),\n",
        "    keras.layers.Lambda(lambda  x : x * 200.0)\n",
        "])\n",
        "\n",
        "\n",
        "lr_schedule = keras.callbacks.LearningRateScheduler(\n",
        "    lambda epoch: 1e-8 * 10**(epoch / 20))\n",
        "\n",
        "reset_states = ResetStatesCallback()\n",
        "\n",
        "optimizer = keras.optimizers.SGD(lr=1e-8, momentum=0.9)\n",
        "\n",
        "model.compile(\n",
        "    loss=keras.losses.Huber(),\n",
        "    optimizer = optimizer,\n",
        "    metrics = [\"mae\"]\n",
        ")\n",
        "\n",
        "history = model.fit(train_set, epochs=100,\n",
        "                    callbacks=[lr_schedule, reset_states])"
      ],
      "metadata": {
        "colab": {
          "base_uri": "https://localhost:8080/"
        },
        "id": "cR3yuRfotLwy",
        "outputId": "105e44be-c4ae-4791-91c3-2051342cfc77"
      },
      "execution_count": null,
      "outputs": [
        {
          "output_type": "stream",
          "name": "stderr",
          "text": [
            "WARNING:absl:`lr` is deprecated, please use `learning_rate` instead, or use the legacy optimizer, e.g.,tf.keras.optimizers.legacy.SGD.\n"
          ]
        },
        {
          "output_type": "stream",
          "name": "stdout",
          "text": [
            "Epoch 1/100\n",
            "33/33 [==============================] - 5s 22ms/step - loss: 46.8590 - mae: 47.3590 - lr: 1.0000e-08\n",
            "Epoch 2/100\n",
            "33/33 [==============================] - 1s 21ms/step - loss: 39.7605 - mae: 40.2603 - lr: 1.1220e-08\n",
            "Epoch 3/100\n",
            "33/33 [==============================] - 1s 20ms/step - loss: 31.7681 - mae: 32.2671 - lr: 1.2589e-08\n",
            "Epoch 4/100\n",
            "33/33 [==============================] - 1s 40ms/step - loss: 23.4556 - mae: 23.9519 - lr: 1.4125e-08\n",
            "Epoch 5/100\n",
            "33/33 [==============================] - 1s 20ms/step - loss: 17.4712 - mae: 17.9637 - lr: 1.5849e-08\n",
            "Epoch 6/100\n",
            "33/33 [==============================] - 1s 33ms/step - loss: 15.3970 - mae: 15.8898 - lr: 1.7783e-08\n",
            "Epoch 7/100\n",
            "33/33 [==============================] - 1s 29ms/step - loss: 14.5345 - mae: 15.0283 - lr: 1.9953e-08\n",
            "Epoch 8/100\n",
            "33/33 [==============================] - 1s 20ms/step - loss: 14.1241 - mae: 14.6168 - lr: 2.2387e-08\n",
            "Epoch 9/100\n",
            "33/33 [==============================] - 1s 20ms/step - loss: 13.8014 - mae: 14.2925 - lr: 2.5119e-08\n",
            "Epoch 10/100\n",
            "33/33 [==============================] - 1s 27ms/step - loss: 13.4046 - mae: 13.8940 - lr: 2.8184e-08\n",
            "Epoch 11/100\n",
            "33/33 [==============================] - 1s 29ms/step - loss: 12.9296 - mae: 13.4221 - lr: 3.1623e-08\n",
            "Epoch 12/100\n",
            "33/33 [==============================] - 1s 20ms/step - loss: 12.3637 - mae: 12.8556 - lr: 3.5481e-08\n",
            "Epoch 13/100\n",
            "33/33 [==============================] - 1s 20ms/step - loss: 11.7129 - mae: 12.2055 - lr: 3.9811e-08\n",
            "Epoch 14/100\n",
            "33/33 [==============================] - 1s 20ms/step - loss: 11.1169 - mae: 11.6061 - lr: 4.4668e-08\n",
            "Epoch 15/100\n",
            "33/33 [==============================] - 1s 20ms/step - loss: 10.7747 - mae: 11.2640 - lr: 5.0119e-08\n",
            "Epoch 16/100\n",
            "33/33 [==============================] - 1s 20ms/step - loss: 10.5035 - mae: 10.9935 - lr: 5.6234e-08\n",
            "Epoch 17/100\n",
            "33/33 [==============================] - 1s 22ms/step - loss: 10.1704 - mae: 10.6608 - lr: 6.3096e-08\n",
            "Epoch 18/100\n",
            "33/33 [==============================] - 1s 34ms/step - loss: 9.8580 - mae: 10.3483 - lr: 7.0795e-08\n",
            "Epoch 19/100\n",
            "33/33 [==============================] - 1s 33ms/step - loss: 9.6230 - mae: 10.1110 - lr: 7.9433e-08\n",
            "Epoch 20/100\n",
            "33/33 [==============================] - 1s 20ms/step - loss: 9.4442 - mae: 9.9299 - lr: 8.9125e-08\n",
            "Epoch 21/100\n",
            "33/33 [==============================] - 1s 21ms/step - loss: 9.2787 - mae: 9.7600 - lr: 1.0000e-07\n",
            "Epoch 22/100\n",
            "33/33 [==============================] - 1s 20ms/step - loss: 9.1284 - mae: 9.6124 - lr: 1.1220e-07\n",
            "Epoch 23/100\n",
            "33/33 [==============================] - 1s 21ms/step - loss: 8.9752 - mae: 9.4566 - lr: 1.2589e-07\n",
            "Epoch 24/100\n",
            "33/33 [==============================] - 1s 20ms/step - loss: 8.8022 - mae: 9.2878 - lr: 1.4125e-07\n",
            "Epoch 25/100\n",
            "33/33 [==============================] - 1s 20ms/step - loss: 8.4963 - mae: 8.9805 - lr: 1.5849e-07\n",
            "Epoch 26/100\n",
            "33/33 [==============================] - 1s 21ms/step - loss: 8.2892 - mae: 8.7744 - lr: 1.7783e-07\n",
            "Epoch 27/100\n",
            "33/33 [==============================] - 1s 21ms/step - loss: 8.0869 - mae: 8.5684 - lr: 1.9953e-07\n",
            "Epoch 28/100\n",
            "33/33 [==============================] - 1s 20ms/step - loss: 7.8339 - mae: 8.3165 - lr: 2.2387e-07\n",
            "Epoch 29/100\n",
            "33/33 [==============================] - 1s 20ms/step - loss: 7.5562 - mae: 8.0378 - lr: 2.5119e-07\n",
            "Epoch 30/100\n",
            "33/33 [==============================] - 1s 21ms/step - loss: 7.3390 - mae: 7.8209 - lr: 2.8184e-07\n",
            "Epoch 31/100\n",
            "33/33 [==============================] - 1s 34ms/step - loss: 7.0942 - mae: 7.5734 - lr: 3.1623e-07\n",
            "Epoch 32/100\n",
            "33/33 [==============================] - 1s 34ms/step - loss: 6.8683 - mae: 7.3495 - lr: 3.5481e-07\n",
            "Epoch 33/100\n",
            "33/33 [==============================] - 1s 22ms/step - loss: 6.7063 - mae: 7.1905 - lr: 3.9811e-07\n",
            "Epoch 34/100\n",
            "33/33 [==============================] - 1s 20ms/step - loss: 6.5793 - mae: 7.0582 - lr: 4.4668e-07\n",
            "Epoch 35/100\n",
            "33/33 [==============================] - 1s 20ms/step - loss: 6.4865 - mae: 6.9657 - lr: 5.0119e-07\n",
            "Epoch 36/100\n",
            "33/33 [==============================] - 1s 20ms/step - loss: 6.4569 - mae: 6.9381 - lr: 5.6234e-07\n",
            "Epoch 37/100\n",
            "33/33 [==============================] - 1s 20ms/step - loss: 6.4540 - mae: 6.9302 - lr: 6.3096e-07\n",
            "Epoch 38/100\n",
            "33/33 [==============================] - 1s 20ms/step - loss: 6.4631 - mae: 6.9437 - lr: 7.0795e-07\n",
            "Epoch 39/100\n",
            "33/33 [==============================] - 1s 21ms/step - loss: 6.2401 - mae: 6.7216 - lr: 7.9433e-07\n",
            "Epoch 40/100\n",
            "33/33 [==============================] - 1s 20ms/step - loss: 6.0818 - mae: 6.5638 - lr: 8.9125e-07\n",
            "Epoch 41/100\n",
            "33/33 [==============================] - 1s 20ms/step - loss: 5.8707 - mae: 6.3533 - lr: 1.0000e-06\n",
            "Epoch 42/100\n",
            "33/33 [==============================] - 1s 20ms/step - loss: 5.8758 - mae: 6.3583 - lr: 1.1220e-06\n",
            "Epoch 43/100\n",
            "33/33 [==============================] - 1s 29ms/step - loss: 6.1795 - mae: 6.6629 - lr: 1.2589e-06\n",
            "Epoch 44/100\n",
            "33/33 [==============================] - 1s 34ms/step - loss: 6.5744 - mae: 7.0613 - lr: 1.4125e-06\n",
            "Epoch 45/100\n",
            "33/33 [==============================] - 1s 29ms/step - loss: 8.3750 - mae: 8.8676 - lr: 1.5849e-06\n",
            "Epoch 46/100\n",
            "33/33 [==============================] - 1s 20ms/step - loss: 7.0314 - mae: 7.5175 - lr: 1.7783e-06\n",
            "Epoch 47/100\n",
            "33/33 [==============================] - 1s 21ms/step - loss: 6.8535 - mae: 7.3373 - lr: 1.9953e-06\n",
            "Epoch 48/100\n",
            "33/33 [==============================] - 1s 21ms/step - loss: 6.2833 - mae: 6.7667 - lr: 2.2387e-06\n",
            "Epoch 49/100\n",
            "33/33 [==============================] - 1s 21ms/step - loss: 6.4931 - mae: 6.9768 - lr: 2.5119e-06\n",
            "Epoch 50/100\n",
            "33/33 [==============================] - 1s 21ms/step - loss: 8.1963 - mae: 8.6836 - lr: 2.8184e-06\n",
            "Epoch 51/100\n",
            "33/33 [==============================] - 1s 21ms/step - loss: 7.5605 - mae: 8.0480 - lr: 3.1623e-06\n",
            "Epoch 52/100\n",
            "33/33 [==============================] - 1s 21ms/step - loss: 8.7876 - mae: 9.2775 - lr: 3.5481e-06\n",
            "Epoch 53/100\n",
            "33/33 [==============================] - 1s 21ms/step - loss: 7.4445 - mae: 7.9314 - lr: 3.9811e-06\n",
            "Epoch 54/100\n",
            "33/33 [==============================] - 1s 21ms/step - loss: 7.0264 - mae: 7.5118 - lr: 4.4668e-06\n",
            "Epoch 55/100\n",
            "33/33 [==============================] - 1s 32ms/step - loss: 9.9751 - mae: 10.4631 - lr: 5.0119e-06\n",
            "Epoch 56/100\n",
            "33/33 [==============================] - 1s 33ms/step - loss: 11.2967 - mae: 11.7901 - lr: 5.6234e-06\n",
            "Epoch 57/100\n",
            "33/33 [==============================] - 1s 30ms/step - loss: 8.9483 - mae: 9.4340 - lr: 6.3096e-06\n",
            "Epoch 58/100\n",
            "33/33 [==============================] - 1s 21ms/step - loss: 11.2635 - mae: 11.7567 - lr: 7.0795e-06\n",
            "Epoch 59/100\n",
            "33/33 [==============================] - 1s 20ms/step - loss: 10.7453 - mae: 11.2362 - lr: 7.9433e-06\n",
            "Epoch 60/100\n",
            "33/33 [==============================] - 1s 20ms/step - loss: 13.4481 - mae: 13.9449 - lr: 8.9125e-06\n",
            "Epoch 61/100\n",
            "33/33 [==============================] - 1s 21ms/step - loss: 11.3726 - mae: 11.8637 - lr: 1.0000e-05\n",
            "Epoch 62/100\n",
            "33/33 [==============================] - 1s 21ms/step - loss: 11.4567 - mae: 11.9461 - lr: 1.1220e-05\n",
            "Epoch 63/100\n",
            "33/33 [==============================] - 1s 21ms/step - loss: 14.1938 - mae: 14.6862 - lr: 1.2589e-05\n",
            "Epoch 64/100\n",
            "33/33 [==============================] - 1s 21ms/step - loss: 11.7919 - mae: 12.2864 - lr: 1.4125e-05\n",
            "Epoch 65/100\n",
            "33/33 [==============================] - 1s 23ms/step - loss: 15.4508 - mae: 15.9446 - lr: 1.5849e-05\n",
            "Epoch 66/100\n",
            "33/33 [==============================] - 1s 21ms/step - loss: 8.9388 - mae: 9.4286 - lr: 1.7783e-05\n",
            "Epoch 67/100\n",
            "33/33 [==============================] - 1s 21ms/step - loss: 10.2910 - mae: 10.7819 - lr: 1.9953e-05\n",
            "Epoch 68/100\n",
            "33/33 [==============================] - 1s 35ms/step - loss: 36.3722 - mae: 36.8711 - lr: 2.2387e-05\n",
            "Epoch 69/100\n",
            "33/33 [==============================] - 1s 29ms/step - loss: 17.0835 - mae: 17.5761 - lr: 2.5119e-05\n",
            "Epoch 70/100\n",
            "33/33 [==============================] - 1s 20ms/step - loss: 19.0856 - mae: 19.5806 - lr: 2.8184e-05\n",
            "Epoch 71/100\n",
            "33/33 [==============================] - 1s 21ms/step - loss: 14.8340 - mae: 15.3275 - lr: 3.1623e-05\n",
            "Epoch 72/100\n",
            "33/33 [==============================] - 1s 21ms/step - loss: 10.9072 - mae: 11.3990 - lr: 3.5481e-05\n",
            "Epoch 73/100\n",
            "33/33 [==============================] - 1s 23ms/step - loss: 26.4927 - mae: 26.9891 - lr: 3.9811e-05\n",
            "Epoch 74/100\n",
            "33/33 [==============================] - 1s 21ms/step - loss: 19.7057 - mae: 20.2022 - lr: 4.4668e-05\n",
            "Epoch 75/100\n",
            "33/33 [==============================] - 1s 20ms/step - loss: 17.4520 - mae: 17.9477 - lr: 5.0119e-05\n",
            "Epoch 76/100\n",
            "33/33 [==============================] - 1s 20ms/step - loss: 15.4427 - mae: 15.9374 - lr: 5.6234e-05\n",
            "Epoch 77/100\n",
            "33/33 [==============================] - 1s 20ms/step - loss: 11.4916 - mae: 11.9810 - lr: 6.3096e-05\n",
            "Epoch 78/100\n",
            "33/33 [==============================] - 1s 20ms/step - loss: 10.6374 - mae: 11.1224 - lr: 7.0795e-05\n",
            "Epoch 79/100\n",
            "33/33 [==============================] - 1s 34ms/step - loss: 11.7015 - mae: 12.1938 - lr: 7.9433e-05\n",
            "Epoch 80/100\n",
            "33/33 [==============================] - 1s 32ms/step - loss: 8.5138 - mae: 9.0008 - lr: 8.9125e-05\n",
            "Epoch 81/100\n",
            "33/33 [==============================] - 1s 20ms/step - loss: 12.4488 - mae: 12.9344 - lr: 1.0000e-04\n",
            "Epoch 82/100\n",
            "33/33 [==============================] - 1s 21ms/step - loss: 8.6975 - mae: 9.1860 - lr: 1.1220e-04\n",
            "Epoch 83/100\n",
            "33/33 [==============================] - 1s 21ms/step - loss: 19.0458 - mae: 19.5401 - lr: 1.2589e-04\n",
            "Epoch 84/100\n",
            "33/33 [==============================] - 1s 20ms/step - loss: 21.5435 - mae: 22.0370 - lr: 1.4125e-04\n",
            "Epoch 85/100\n",
            "33/33 [==============================] - 1s 20ms/step - loss: 15.4352 - mae: 15.9259 - lr: 1.5849e-04\n",
            "Epoch 86/100\n",
            "33/33 [==============================] - 1s 21ms/step - loss: 18.4787 - mae: 18.9748 - lr: 1.7783e-04\n",
            "Epoch 87/100\n",
            "33/33 [==============================] - 1s 20ms/step - loss: 24.3951 - mae: 24.8929 - lr: 1.9953e-04\n",
            "Epoch 88/100\n",
            "33/33 [==============================] - 1s 20ms/step - loss: 29.1709 - mae: 29.6644 - lr: 2.2387e-04\n",
            "Epoch 89/100\n",
            "33/33 [==============================] - 1s 20ms/step - loss: 28.4613 - mae: 28.9563 - lr: 2.5119e-04\n",
            "Epoch 90/100\n",
            "33/33 [==============================] - 1s 20ms/step - loss: 23.8886 - mae: 24.3814 - lr: 2.8184e-04\n",
            "Epoch 91/100\n",
            "33/33 [==============================] - 1s 33ms/step - loss: 28.1549 - mae: 28.6517 - lr: 3.1623e-04\n",
            "Epoch 92/100\n",
            "33/33 [==============================] - 1s 34ms/step - loss: 32.0006 - mae: 32.4991 - lr: 3.5481e-04\n",
            "Epoch 93/100\n",
            "33/33 [==============================] - 1s 23ms/step - loss: 39.9408 - mae: 40.4395 - lr: 3.9811e-04\n",
            "Epoch 94/100\n",
            "33/33 [==============================] - 1s 21ms/step - loss: 38.8524 - mae: 39.3512 - lr: 4.4668e-04\n",
            "Epoch 95/100\n",
            "33/33 [==============================] - 1s 21ms/step - loss: 60.9573 - mae: 61.4568 - lr: 5.0119e-04\n",
            "Epoch 96/100\n",
            "33/33 [==============================] - 1s 21ms/step - loss: 48.7419 - mae: 49.2411 - lr: 5.6234e-04\n",
            "Epoch 97/100\n",
            "33/33 [==============================] - 1s 20ms/step - loss: 47.7135 - mae: 48.2126 - lr: 6.3096e-04\n",
            "Epoch 98/100\n",
            "33/33 [==============================] - 1s 20ms/step - loss: 59.3897 - mae: 59.8884 - lr: 7.0795e-04\n",
            "Epoch 99/100\n",
            "33/33 [==============================] - 1s 20ms/step - loss: 48.5130 - mae: 49.0092 - lr: 7.9433e-04\n",
            "Epoch 100/100\n",
            "33/33 [==============================] - 1s 20ms/step - loss: 73.3312 - mae: 73.8309 - lr: 8.9125e-04\n"
          ]
        }
      ]
    },
    {
      "cell_type": "code",
      "source": [
        "plt.semilogx(history.history[\"lr\"], history.history[\"loss\"])\n",
        "plt.axis([1e-8, 1e-4, 0, 30])"
      ],
      "metadata": {
        "colab": {
          "base_uri": "https://localhost:8080/",
          "height": 290
        },
        "id": "gmu3SCPUtLzN",
        "outputId": "d15264a3-7232-4f1f-9b03-7e5319968db4"
      },
      "execution_count": null,
      "outputs": [
        {
          "output_type": "execute_result",
          "data": {
            "text/plain": [
              "(1e-08, 0.0001, 0.0, 30.0)"
            ]
          },
          "metadata": {},
          "execution_count": 15
        },
        {
          "output_type": "display_data",
          "data": {
            "text/plain": [
              "<Figure size 432x288 with 1 Axes>"
            ],
            "image/png": "[encoded data removed]"
          },
          "metadata": {
            "needs_background": "light"
          }
        }
      ]
    },
    {
      "cell_type": "code",
      "source": [
        "keras.backend.clear_session()\n",
        "tf.random.set_seed(42)\n",
        "np.random.seed(42)\n",
        "\n",
        "window_size = 30\n",
        "train_set = sequential_window_dataset(x_train, window_size)\n",
        "valid_set = sequential_window_dataset(x_valid, window_size)\n",
        "\n",
        "model = keras.models.Sequential([\n",
        "  keras.layers.LSTM(100, return_sequences=True, stateful=True,\n",
        "                         batch_input_shape=[1, None, 1]),\n",
        "  keras.layers.LSTM(100, return_sequences=True, stateful=True),\n",
        "  keras.layers.Dense(1),\n",
        "  keras.layers.Lambda(lambda x: x * 200.0)\n",
        "])\n",
        "optimizer = keras.optimizers.SGD(lr=5e-7, momentum=0.9)\n",
        "model.compile(loss=keras.losses.Huber(),\n",
        "              optimizer=optimizer,\n",
        "              metrics=[\"mae\"])\n",
        "reset_states = ResetStatesCallback()\n",
        "model_checkpoint = keras.callbacks.ModelCheckpoint(\n",
        "    \"my_checkpoint.h5\", save_best_only=True)\n",
        "early_stopping = keras.callbacks.EarlyStopping(patience=50)\n",
        "model.fit(train_set, epochs=500,\n",
        "          validation_data=valid_set,\n",
        "          callbacks=[early_stopping, model_checkpoint, reset_states])"
      ],
      "metadata": {
        "colab": {
          "base_uri": "https://localhost:8080/"
        },
        "id": "S4XRkW6OtL1s",
        "outputId": "55bdbec2-c019-482f-9fe5-5a604c60372a"
      },
      "execution_count": null,
      "outputs": [
        {
          "output_type": "stream",
          "name": "stderr",
          "text": [
            "WARNING:absl:`lr` is deprecated, please use `learning_rate` instead, or use the legacy optimizer, e.g.,tf.keras.optimizers.legacy.SGD.\n"
          ]
        },
        {
          "output_type": "stream",
          "name": "stdout",
          "text": [
            "Epoch 1/500\n",
            "33/33 [==============================] - 6s 64ms/step - loss: 3583.5044 - mae: 3584.0049 - val_loss: 6104.0571 - val_mae: 6104.5562\n",
            "Epoch 2/500\n",
            "33/33 [==============================] - 2s 50ms/step - loss: 7321.0176 - mae: 7321.5176 - val_loss: 10198.0176 - val_mae: 10198.5166\n",
            "Epoch 3/500\n",
            "33/33 [==============================] - 2s 69ms/step - loss: 10597.2891 - mae: 10597.7861 - val_loss: 1868.5349 - val_mae: 1869.0347\n",
            "Epoch 4/500\n",
            "33/33 [==============================] - 1s 27ms/step - loss: 9621.6660 - mae: 9622.1680 - val_loss: 12753.6240 - val_mae: 12754.1230\n",
            "Epoch 5/500\n",
            "33/33 [==============================] - 1s 42ms/step - loss: 8852.1230 - mae: 8852.6240 - val_loss: 803.1707 - val_mae: 803.6707\n",
            "Epoch 6/500\n",
            "33/33 [==============================] - 1s 32ms/step - loss: 7013.5396 - mae: 7014.0391 - val_loss: 3546.8394 - val_mae: 3547.3394\n",
            "Epoch 7/500\n",
            "33/33 [==============================] - 1s 25ms/step - loss: 15655.0938 - mae: 15655.5938 - val_loss: 21755.6758 - val_mae: 21756.1777\n",
            "Epoch 8/500\n",
            "33/33 [==============================] - 1s 27ms/step - loss: 8274.1064 - mae: 8274.6064 - val_loss: 8975.4258 - val_mae: 8975.9268\n",
            "Epoch 9/500\n",
            "33/33 [==============================] - 1s 24ms/step - loss: 13519.6768 - mae: 13520.1777 - val_loss: 4980.7402 - val_mae: 4981.2402\n",
            "Epoch 10/500\n",
            "33/33 [==============================] - 1s 26ms/step - loss: 14081.9609 - mae: 14082.4609 - val_loss: 10690.4238 - val_mae: 10690.9229\n",
            "Epoch 11/500\n",
            "33/33 [==============================] - 1s 29ms/step - loss: 13263.4893 - mae: 13263.9893 - val_loss: 15165.5654 - val_mae: 15166.0654\n",
            "Epoch 12/500\n",
            "33/33 [==============================] - 1s 41ms/step - loss: 15633.7969 - mae: 15634.2988 - val_loss: 165.8833 - val_mae: 166.3833\n",
            "Epoch 13/500\n",
            "33/33 [==============================] - 1s 31ms/step - loss: 8150.3003 - mae: 8150.7988 - val_loss: 7353.8340 - val_mae: 7354.3345\n",
            "Epoch 14/500\n",
            "33/33 [==============================] - 1s 26ms/step - loss: 7927.1880 - mae: 7927.6890 - val_loss: 705.1462 - val_mae: 705.6462\n",
            "Epoch 15/500\n",
            "33/33 [==============================] - 1s 26ms/step - loss: 13830.1670 - mae: 13830.6660 - val_loss: 2906.3762 - val_mae: 2906.8762\n",
            "Epoch 16/500\n",
            "33/33 [==============================] - 1s 24ms/step - loss: 13743.6143 - mae: 13744.1152 - val_loss: 773.7762 - val_mae: 774.2761\n",
            "Epoch 17/500\n",
            "33/33 [==============================] - 1s 26ms/step - loss: 15993.0283 - mae: 15993.5283 - val_loss: 7803.4893 - val_mae: 7803.9888\n",
            "Epoch 18/500\n",
            "33/33 [==============================] - 1s 26ms/step - loss: 19492.6816 - mae: 19493.1777 - val_loss: 22339.7852 - val_mae: 22340.2852\n",
            "Epoch 19/500\n",
            "33/33 [==============================] - 1s 25ms/step - loss: 19747.2910 - mae: 19747.7891 - val_loss: 13650.2314 - val_mae: 13650.7314\n",
            "Epoch 20/500\n",
            "33/33 [==============================] - 1s 25ms/step - loss: 25792.7188 - mae: 25793.2207 - val_loss: 1169.1649 - val_mae: 1169.6647\n",
            "Epoch 21/500\n",
            "33/33 [==============================] - 1s 27ms/step - loss: 25703.6055 - mae: 25704.1055 - val_loss: 23110.2090 - val_mae: 23110.7090\n",
            "Epoch 22/500\n",
            "33/33 [==============================] - 1s 25ms/step - loss: 20656.5195 - mae: 20657.0137 - val_loss: 31091.0000 - val_mae: 31091.5020\n",
            "Epoch 23/500\n",
            "33/33 [==============================] - 1s 24ms/step - loss: 8332.1934 - mae: 8332.6943 - val_loss: 970.4007 - val_mae: 970.9006\n",
            "Epoch 24/500\n",
            "33/33 [==============================] - 1s 40ms/step - loss: 6331.1274 - mae: 6331.6274 - val_loss: 10815.5693 - val_mae: 10816.0703\n",
            "Epoch 25/500\n",
            "33/33 [==============================] - 1s 24ms/step - loss: 8317.8330 - mae: 8318.3350 - val_loss: 6663.7612 - val_mae: 6664.2617\n",
            "Epoch 26/500\n",
            "33/33 [==============================] - 1s 26ms/step - loss: 8165.6807 - mae: 8166.1792 - val_loss: 11588.8965 - val_mae: 11589.3975\n",
            "Epoch 27/500\n",
            "33/33 [==============================] - 1s 26ms/step - loss: 8356.1133 - mae: 8356.6143 - val_loss: 6639.8447 - val_mae: 6640.3442\n",
            "Epoch 28/500\n",
            "33/33 [==============================] - 1s 25ms/step - loss: 8164.4951 - mae: 8164.9951 - val_loss: 11589.6611 - val_mae: 11590.1621\n",
            "Epoch 29/500\n",
            "33/33 [==============================] - 1s 26ms/step - loss: 8356.1543 - mae: 8356.6533 - val_loss: 6639.7764 - val_mae: 6640.2773\n",
            "Epoch 30/500\n",
            "33/33 [==============================] - 1s 28ms/step - loss: 8164.4897 - mae: 8164.9888 - val_loss: 11589.6982 - val_mae: 11590.1992\n",
            "Epoch 31/500\n",
            "33/33 [==============================] - 1s 27ms/step - loss: 8356.1572 - mae: 8356.6562 - val_loss: 6639.7397 - val_mae: 6640.2393\n",
            "Epoch 32/500\n",
            "33/33 [==============================] - 1s 25ms/step - loss: 8164.4868 - mae: 8164.9868 - val_loss: 11589.7334 - val_mae: 11590.2344\n",
            "Epoch 33/500\n",
            "33/33 [==============================] - 1s 25ms/step - loss: 8356.1611 - mae: 8356.6592 - val_loss: 6639.6987 - val_mae: 6640.1992\n",
            "Epoch 34/500\n",
            "33/33 [==============================] - 1s 25ms/step - loss: 8164.4829 - mae: 8164.9839 - val_loss: 11589.7666 - val_mae: 11590.2676\n",
            "Epoch 35/500\n",
            "33/33 [==============================] - 1s 39ms/step - loss: 8356.1641 - mae: 8356.6631 - val_loss: 6639.6689 - val_mae: 6640.1694\n",
            "Epoch 36/500\n",
            "33/33 [==============================] - 1s 36ms/step - loss: 8164.4810 - mae: 8164.9814 - val_loss: 11589.7959 - val_mae: 11590.2959\n",
            "Epoch 37/500\n",
            "33/33 [==============================] - 1s 27ms/step - loss: 8356.1660 - mae: 8356.6660 - val_loss: 6639.6357 - val_mae: 6640.1362\n",
            "Epoch 38/500\n",
            "33/33 [==============================] - 1s 24ms/step - loss: 8164.4780 - mae: 8164.9785 - val_loss: 11589.8271 - val_mae: 11590.3271\n",
            "Epoch 39/500\n",
            "33/33 [==============================] - 1s 25ms/step - loss: 8356.1680 - mae: 8356.6670 - val_loss: 6639.6016 - val_mae: 6640.1021\n",
            "Epoch 40/500\n",
            "33/33 [==============================] - 1s 25ms/step - loss: 8164.4756 - mae: 8164.9746 - val_loss: 11589.8604 - val_mae: 11590.3613\n",
            "Epoch 41/500\n",
            "33/33 [==============================] - 1s 26ms/step - loss: 8356.1719 - mae: 8356.6719 - val_loss: 6639.5679 - val_mae: 6640.0684\n",
            "Epoch 42/500\n",
            "33/33 [==============================] - 1s 25ms/step - loss: 8164.4727 - mae: 8164.9707 - val_loss: 11589.8916 - val_mae: 11590.3896\n",
            "Epoch 43/500\n",
            "33/33 [==============================] - 1s 26ms/step - loss: 8356.1729 - mae: 8356.6729 - val_loss: 6639.5303 - val_mae: 6640.0298\n",
            "Epoch 44/500\n",
            "33/33 [==============================] - 1s 26ms/step - loss: 8164.4678 - mae: 8164.9688 - val_loss: 11589.9258 - val_mae: 11590.4268\n",
            "Epoch 45/500\n",
            "33/33 [==============================] - 1s 25ms/step - loss: 8356.1758 - mae: 8356.6758 - val_loss: 6639.4922 - val_mae: 6639.9932\n",
            "Epoch 46/500\n",
            "33/33 [==============================] - 1s 40ms/step - loss: 8164.4668 - mae: 8164.9653 - val_loss: 11589.9629 - val_mae: 11590.4619\n",
            "Epoch 47/500\n",
            "33/33 [==============================] - 1s 26ms/step - loss: 8356.1807 - mae: 8356.6797 - val_loss: 6639.4541 - val_mae: 6639.9541\n",
            "Epoch 48/500\n",
            "33/33 [==============================] - 1s 27ms/step - loss: 8164.4619 - mae: 8164.9629 - val_loss: 11589.9961 - val_mae: 11590.4980\n",
            "Epoch 49/500\n",
            "33/33 [==============================] - 1s 26ms/step - loss: 8356.1836 - mae: 8356.6836 - val_loss: 6639.4189 - val_mae: 6639.9194\n",
            "Epoch 50/500\n",
            "33/33 [==============================] - 1s 26ms/step - loss: 8164.4609 - mae: 8164.9595 - val_loss: 11590.0303 - val_mae: 11590.5312\n",
            "Epoch 51/500\n",
            "33/33 [==============================] - 1s 26ms/step - loss: 8356.1855 - mae: 8356.6855 - val_loss: 6639.3804 - val_mae: 6639.8813\n",
            "Epoch 52/500\n",
            "33/33 [==============================] - 1s 27ms/step - loss: 8164.4565 - mae: 8164.9570 - val_loss: 11590.0674 - val_mae: 11590.5674\n",
            "Epoch 53/500\n",
            "33/33 [==============================] - 1s 25ms/step - loss: 8356.1885 - mae: 8356.6904 - val_loss: 6639.3408 - val_mae: 6639.8418\n",
            "Epoch 54/500\n",
            "33/33 [==============================] - 1s 25ms/step - loss: 8164.4536 - mae: 8164.9546 - val_loss: 11590.1025 - val_mae: 11590.6025\n",
            "Epoch 55/500\n",
            "33/33 [==============================] - 1s 35ms/step - loss: 8356.1934 - mae: 8356.6934 - val_loss: 6639.3037 - val_mae: 6639.8032\n",
            "Epoch 56/500\n",
            "33/33 [==============================] - 1s 43ms/step - loss: 8164.4487 - mae: 8164.9502 - val_loss: 11590.1416 - val_mae: 11590.6396\n",
            "Epoch 57/500\n",
            "33/33 [==============================] - 1s 27ms/step - loss: 8356.1963 - mae: 8356.6963 - val_loss: 6639.2607 - val_mae: 6639.7612\n",
            "Epoch 58/500\n",
            "33/33 [==============================] - 1s 27ms/step - loss: 8164.4458 - mae: 8164.9463 - val_loss: 11590.1777 - val_mae: 11590.6777\n",
            "Epoch 59/500\n",
            "33/33 [==============================] - 1s 26ms/step - loss: 8356.2002 - mae: 8356.7002 - val_loss: 6639.2217 - val_mae: 6639.7217\n",
            "Epoch 60/500\n",
            "33/33 [==============================] - 1s 26ms/step - loss: 8164.4443 - mae: 8164.9429 - val_loss: 11590.2148 - val_mae: 11590.7158\n",
            "Epoch 61/500\n",
            "33/33 [==============================] - 1s 27ms/step - loss: 8356.2021 - mae: 8356.7031 - val_loss: 6639.1812 - val_mae: 6639.6812\n",
            "Epoch 62/500\n",
            "33/33 [==============================] - 1s 27ms/step - loss: 8164.4395 - mae: 8164.9404 - val_loss: 11590.2520 - val_mae: 11590.7520\n"
          ]
        },
        {
          "output_type": "execute_result",
          "data": {
            "text/plain": [
              "<keras.callbacks.History at 0x7f2852cf86d0>"
            ]
          },
          "metadata": {},
          "execution_count": 17
        }
      ]
    },
    {
      "cell_type": "code",
      "source": [
        "model = keras.models.load_model(\"my_checkpoint.h5\")"
      ],
      "metadata": {
        "id": "0qNUhXCNtL3-"
      },
      "execution_count": null,
      "outputs": []
    },
    {
      "cell_type": "code",
      "source": [
        "rnn_forecast = model.predict(series[np.newaxis, :, np.newaxis])\n",
        "rnn_forecast = rnn_forecast[0, split_time - 1:-1, 0]"
      ],
      "metadata": {
        "colab": {
          "base_uri": "https://localhost:8080/"
        },
        "id": "x3tm73wbtL6W",
        "outputId": "cc471134-a769-485f-abcf-e283b537e39b"
      },
      "execution_count": null,
      "outputs": [
        {
          "output_type": "stream",
          "name": "stdout",
          "text": [
            "1/1 [==============================] - 3s 3s/step\n"
          ]
        }
      ]
    },
    {
      "cell_type": "code",
      "source": [
        "plt.figure(figsize=(10, 6))\n",
        "plot_series(time_valid, x_valid)\n",
        "plot_series(time_valid, rnn_forecast)"
      ],
      "metadata": {
        "colab": {
          "base_uri": "https://localhost:8080/",
          "height": 388
        },
        "id": "4fT9MXFstL8l",
        "outputId": "75ac1379-1069-4476-9f9a-30ea3e3e464e"
      },
      "execution_count": null,
      "outputs": [
        {
          "output_type": "display_data",
          "data": {
            "text/plain": [
              "<Figure size 720x432 with 1 Axes>"
            ],
            "image/png": "[encoded data removed]"
          },
          "metadata": {
            "needs_background": "light"
          }
        }
      ]
    },
    {
      "cell_type": "code",
      "source": [
        "keras.metrics.mean_absolute_error(x_valid, rnn_forecast).numpy()"
      ],
      "metadata": {
        "colab": {
          "base_uri": "https://localhost:8080/"
        },
        "id": "qTutmAzntL-5",
        "outputId": "969fa912-bf56-4041-b9f8-da4a6b68021c"
      },
      "execution_count": null,
      "outputs": [
        {
          "output_type": "execute_result",
          "data": {
            "text/plain": [
              "166.10175"
            ]
          },
          "metadata": {},
          "execution_count": 21
        }
      ]
    }
  ]
}